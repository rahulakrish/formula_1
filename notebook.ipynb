{
  "cells": [
    {
      "cell_type": "markdown",
      "metadata": {
        "id": "97-xOqNuCChH"
      },
      "source": [
        "# Formula 1"
      ]
    },
    {
      "cell_type": "code",
      "execution_count": 40,
      "metadata": {
        "id": "yXWnJQqdCChI"
      },
      "outputs": [],
      "source": [
        "import pandas as pd\n",
        "import sqlite3\n",
        "import requests\n",
        "import csv"
      ]
    },
    {
      "cell_type": "code",
      "source": [
        "#create a connection\n",
        "conn = sqlite3.connect('database.db')\n",
        "\n",
        "# creating a cursor object\n",
        "cur = conn.cursor()"
      ],
      "metadata": {
        "id": "D23p2W6UCSbw"
      },
      "execution_count": 41,
      "outputs": []
    },
    {
      "cell_type": "code",
      "source": [
        "#set the path\n",
        "url = 'https://raw.githubusercontent.com/rahulakrish/formula_1/main/circuits.csv'\n",
        "\n",
        "# Download the file\n",
        "response = requests.get(url)"
      ],
      "metadata": {
        "id": "MjqeDc0LCzVc"
      },
      "execution_count": 43,
      "outputs": []
    },
    {
      "cell_type": "code",
      "source": [
        "# Open the downloaded file for reading\n",
        "with open('circuits.csv', 'w') as f:\n",
        "    f.write(response.text)\n",
        "\n",
        "# Read the data from the downloaded file\n",
        "with open('circuits.csv', 'r') as f:\n",
        "    reader = csv.reader(f)\n",
        "    data = list(reader)"
      ],
      "metadata": {
        "id": "yOJq4wEYCdA6"
      },
      "execution_count": 45,
      "outputs": []
    },
    {
      "cell_type": "code",
      "source": [
        "#create a table\n",
        "cur.execute('''CREATE TABLE circuit_info_new (\n",
        "   circuit_id INT,\n",
        "   circuitref VARCHAR,\n",
        "   name VARCHAR,\n",
        "   location VARCHAR,\n",
        "   country VARCHAR,\n",
        "   lat INT,\n",
        "   lng INT,\n",
        "   alt INT,\n",
        "   url VARCHAR)''')"
      ],
      "metadata": {
        "id": "_EJEiPZ5NyMp",
        "outputId": "d86145bf-b258-4b39-bc2b-a74593b28258",
        "colab": {
          "base_uri": "https://localhost:8080/"
        }
      },
      "execution_count": 48,
      "outputs": [
        {
          "output_type": "execute_result",
          "data": {
            "text/plain": [
              "<sqlite3.Cursor at 0x7d96ec21f4c0>"
            ]
          },
          "metadata": {},
          "execution_count": 48
        }
      ]
    },
    {
      "cell_type": "code",
      "source": [
        "#insert data into the table\n",
        "for row in data:\n",
        "   cur.execute(\"INSERT INTO circuit_info_new (circuit_id, circuitref,name, location, country, lat, lng, alt, url) values (?, ?, ?, ?, ?, ?, ?, ?, ?)\", row)\n",
        "\n",
        "# committing changes\n",
        "conn.commit()"
      ],
      "metadata": {
        "id": "-d1Wx80zO2Cy"
      },
      "execution_count": 50,
      "outputs": []
    },
    {
      "cell_type": "code",
      "source": [
        "cur.execute('''SELECT * FROM circuit_info_new LIMIT 2''').fetchall()"
      ],
      "metadata": {
        "id": "3bvR7yesQmiL",
        "outputId": "48cd8931-c226-4366-94e9-46dfce0fc91f",
        "colab": {
          "base_uri": "https://localhost:8080/"
        }
      },
      "execution_count": 53,
      "outputs": [
        {
          "output_type": "execute_result",
          "data": {
            "text/plain": [
              "[('circuitId',\n",
              "  'circuitRef',\n",
              "  'name',\n",
              "  'location',\n",
              "  'country',\n",
              "  'lat',\n",
              "  'lng',\n",
              "  'alt',\n",
              "  'url'),\n",
              " (1,\n",
              "  'albert_park',\n",
              "  'Albert Park Grand Prix Circuit',\n",
              "  'Melbourne',\n",
              "  'Australia',\n",
              "  -37.8497,\n",
              "  144.968,\n",
              "  10,\n",
              "  'http://en.wikipedia.org/wiki/Melbourne_Grand_Prix_Circuit')]"
            ]
          },
          "metadata": {},
          "execution_count": 53
        }
      ]
    }
  ],
  "metadata": {
    "kernelspec": {
      "display_name": "Python 3",
      "language": "python",
      "name": "python3"
    },
    "language_info": {
      "codemirror_mode": {
        "name": "ipython",
        "version": 3
      },
      "file_extension": ".py",
      "mimetype": "text/x-python",
      "name": "python",
      "nbconvert_exporter": "python",
      "pygments_lexer": "ipython3",
      "version": "3.8.3"
    },
    "colab": {
      "provenance": [],
      "toc_visible": true
    }
  },
  "nbformat": 4,
  "nbformat_minor": 0
}